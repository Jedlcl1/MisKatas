{
  "cells": [
    {
      "cell_type": "markdown",
      "source": [
        "# Ejercicio: Uso de funciones en Python"
      ],
      "metadata": {}
    },
    {
      "cell_type": "markdown",
      "source": [
        "### Ejercicio 1: Trabajar con argumentos en funciones\n",
        "\n",
        "Los argumentos requeridos en las funciones se utilizan cuando las funciones necesitan que esos argumentos funcionen correctamente. En este ejercicio, construirás un informe de combustible que requiere información de varias ubicaciones de combustible en todo el cohete.\n",
        "\n"
      ],
      "metadata": {}
    },
    {
      "cell_type": "markdown",
      "source": [
        "> **TIP**\n",
        "> Dedica unos minutos para tratar de encontrar una solución. Luego desplázate hacia abajo hasta la parte inferior para ver si has logrado compilar el programa de acuerdo con las especificaciones\n",
        "\n",
        "Comienza por crear una función que necesite tres lecturas de combustible y devuelva un informe:"
      ],
      "metadata": {}
    },
    {
      "cell_type": "code",
      "execution_count": 34,
      "source": [
        "# Función para leer 3 tanques de combustible y muestre el promedio\r\n",
        "def combustible(comb1, comb2, comb3):\r\n",
        "    total = comb1 + comb2 + comb3\r\n",
        "    promedio = (comb1 + comb2 + comb3) / 3 \r\n",
        "    reporte = f\"\"\" \r\n",
        "    Combustible total: {total}\r\n",
        "    Promedio de combustible: {promedio}\r\n",
        "    \"\"\"\r\n",
        "    print(reporte)\r\n"
      ],
      "outputs": [],
      "metadata": {}
    },
    {
      "cell_type": "markdown",
      "source": [
        "Ahora que hemos definido la función de informes, vamos a comprobarlo. Para esta misión, los tanques no están llenos:"
      ],
      "metadata": {}
    },
    {
      "cell_type": "code",
      "execution_count": 35,
      "source": [
        "\r\n",
        "# Llamamos a la función que genera el reporte print(funcion(tanque1, tanque2, tanque3))\r\n",
        "print(combustible(50, 32, 7))"
      ],
      "outputs": [
        {
          "output_type": "stream",
          "name": "stdout",
          "text": [
            " \n",
            "    Combustible total: 89\n",
            "    Promedio de combustible: 29.666666666666668\n",
            "    \n",
            "None\n"
          ]
        }
      ],
      "metadata": {}
    },
    {
      "cell_type": "markdown",
      "source": [
        "En lugar de simplemente crear el informe, la función también está calculando el promedio. Mejora la legibilidad extrayendo el cálculo promedio de la función en una nueva función para que el promedio se pueda hacer de forma independiente:"
      ],
      "metadata": {}
    },
    {
      "cell_type": "code",
      "execution_count": 43,
      "source": [
        "# Función promedio \r\n",
        "def promedio(comb1, comb2, comb3):\r\n",
        "    promedio = (comb1 +comb2 + comb3) / 3\r\n",
        "    return (promedio)"
      ],
      "outputs": [],
      "metadata": {}
    },
    {
      "cell_type": "markdown",
      "source": [
        "Ahora actualiza la función de informes para llamando a la nueva función del promedio:\n"
      ],
      "metadata": {}
    },
    {
      "cell_type": "code",
      "execution_count": 47,
      "source": [
        "# Actualiza la función\r\n",
        "def combustible(comb1, comb2, comb3):\r\n",
        "    total = comb1 + comb2 + comb3\r\n",
        "    reporte = f\"\"\" \r\n",
        "    Combustible total: {total}\r\n",
        "    Promedio de combustible: {promedio(comb1, comb2, comb3)}\r\n",
        "    \"\"\"\r\n",
        "    print(reporte)\r\n",
        "\r\n",
        "combustible(20,45, 18)"
      ],
      "outputs": [
        {
          "output_type": "stream",
          "name": "stdout",
          "text": [
            " \n",
            "    Combustible total: 83\n",
            "    Promedio de combustible: 27.666666666666668\n",
            "    \n"
          ]
        }
      ],
      "metadata": {}
    },
    {
      "cell_type": "markdown",
      "source": [
        "> Recuerda: Lo importante es intentarlo, puedes auxiliarte de internet, libros, etc. El objetivo de una kata es la comprobación de la comprensión de la lección y su aplicación inmediata a la resolución de problemas. Go for it!"
      ],
      "metadata": {}
    },
    {
      "cell_type": "markdown",
      "source": [
        "## Ejercicio 2: Trabajo con argumentos de palabra clave"
      ],
      "metadata": {}
    },
    {
      "cell_type": "markdown",
      "source": [
        "### Ejercicio : Trabajar con argumentos de palabras clave en funciones\n",
        "En este ejercicio, construirás un informe de cohete que requiere varias piezas de información, como el tiempo hasta el destino, el combustible a la izquierda y el nombre del destino. Comienza por crear una función que creará un informe preciso de la misión:"
      ],
      "metadata": {}
    },
    {
      "cell_type": "code",
      "execution_count": 56,
      "source": [
        "# Función con un informe preciso de la misión. Considera hora de prelanzamiento, tiempo de vuelo, destino, tanque externo y tanque interno\r\n",
        "def informe(pre_lanza,t_vuelo,destino,tanque_ex,tanque_in ):\r\n",
        "    echos = f\"\"\"\r\n",
        "    Hora de prelanzamiento: {pre_lanza}\r\n",
        "    Tiempo de vuelo: {t_vuelo}\r\n",
        "    Destino: {destino}\r\n",
        "    Tanque externo: {tanque_ex} litros\r\n",
        "    Tanque_interno: {tanque_in} litros\r\n",
        "    \"\"\"\r\n",
        "    print(echos)\r\n",
        "\r\n",
        "informe(10,50,'Planeta 354-B',30,40)"
      ],
      "outputs": [
        {
          "output_type": "stream",
          "name": "stdout",
          "text": [
            "\n",
            "    Hora de prelanzamiento: 10\n",
            "    Tiempo de vuelo: 50\n",
            "    Destino: Planeta 354-B\n",
            "    Tanque externo: 30 litros\n",
            "    Tanque_interno: 40 litros\n",
            "    \n"
          ]
        }
      ],
      "metadata": {}
    },
    {
      "cell_type": "markdown",
      "source": [
        "La función es problemática porque no se puede adaptar para minutos adicionales o tanques adicionales de combustible. Hazlo más flexible permitiendo cualquier número de pasos basados en el tiempo y cualquier número de tanques. En lugar de usar `*args` y `**kwargs`, aprovecha el hecho de que puedes usar cualquier nombre que desees. Asegurate que la función sea más legible mediante el uso de nombres de variables que están asociados con las entradas, como `*minutes` y `**fuel_reservoirs`:"
      ],
      "metadata": {}
    },
    {
      "cell_type": "code",
      "execution_count": 62,
      "source": [
        "# Escribe tu nueva función de reporte considerando lo anterior\r\n",
        "def reporte(destino, *minutos, **reserva_tanque):\r\n",
        "    echos = f\"\"\"\r\n",
        "    Vuelo hacia {destino}\r\n",
        "    Total tiempo de vuelo: {sum(minutos)} minutos\r\n",
        "    Total tanque restante: {sum(reserva_tanque.values())}\r\n",
        "    \"\"\"\r\n",
        "    for tanque_nombre, galones in reserva_tanque.items():\r\n",
        "        echos+= f\"tanque {tanque_nombre} -->  {galones} galones restantes\\n\"\r\n",
        "    return echos\r\n",
        "\r\n",
        "print(reporte(\"Luna\", 20, 31, 46, principal = 200000, extenrno=100000))\r\n"
      ],
      "outputs": [
        {
          "output_type": "stream",
          "name": "stdout",
          "text": [
            "\n",
            "    Vuelo hacia Luna\n",
            "    Total tiempo de vuelo: 97 minutos\n",
            "    Total tanque restante: 300000\n",
            "    tanque principal -->  200000 galones restantes\n",
            "tanque extenrno -->  100000 galones restantes\n",
            "\n"
          ]
        }
      ],
      "metadata": {}
    },
    {
      "cell_type": "markdown",
      "source": [
        "Debido a que el combustible que queda en los tanques es específico de cada tanque, actualiza la función para usar el nombre de cada tanque en el informe:"
      ],
      "metadata": {}
    },
    {
      "cell_type": "code",
      "execution_count": null,
      "source": [
        "# Escribe tu nueva función\r\n",
        "def reporte(destino, *minutos, **reserva_tanque):\r\n",
        "    echos = f\"\"\"\r\n",
        "    Vuelo hacia {destino}\r\n",
        "    Total tiempo de vuelo: {sum(minutos)} minutos\r\n",
        "    Total tanque restante: {sum(reserva_tanque.values())}\r\n",
        "    \"\"\"\r\n",
        "    for tanque_nombre, galones in reserva_tanque.items():\r\n",
        "        echos+= f\"tanque {tanque_nombre} -->  {galones} galones restantes\\n\"\r\n",
        "    return echos\r\n",
        "\r\n",
        "print(reporte(\"Luna\", 20, 31, 46, principal = 200000, extenrno=100000))"
      ],
      "outputs": [],
      "metadata": {}
    },
    {
      "cell_type": "markdown",
      "source": [
        "## Soluciones"
      ],
      "metadata": {}
    },
    {
      "cell_type": "markdown",
      "source": [
        "## Ejercicio 1"
      ],
      "metadata": {}
    },
    {
      "cell_type": "code",
      "execution_count": null,
      "source": [
        "# Función para leer 3 tanques de combustible y muestre el promedio\r\n",
        "\r\n",
        "def generate_report(main_tank, external_tank, hydrogen_tank):\r\n",
        "    total_average = (main_tank + external_tank + hydrogen_tank) / 3\r\n",
        "    return f\"\"\"Fuel Report:\r\n",
        "    Total Average: {total_average}%\r\n",
        "    Main tank: {main_tank}%\r\n",
        "    External tank: {external_tank}%\r\n",
        "    Hydrogen tank: {hydrogen_tank}% \r\n",
        "    \"\"\"\r\n"
      ],
      "outputs": [],
      "metadata": {}
    },
    {
      "cell_type": "code",
      "execution_count": null,
      "source": [
        "# Llamamos a la función que genera el reporte print(funcion(tanque1, tanque2, tanque3))\r\n",
        "print(generate_report(80, 70, 85))"
      ],
      "outputs": [],
      "metadata": {}
    },
    {
      "cell_type": "code",
      "execution_count": null,
      "source": [
        "# Función promedio \r\n",
        "def average(values):\r\n",
        "    total = sum(values)\r\n",
        "    number_of_items = len(values)\r\n",
        "    return total / number_of_items\r\n",
        "\r\n",
        "# Test the averaging function with a list of integers:\r\n",
        "average([80, 85, 81]) "
      ],
      "outputs": [],
      "metadata": {}
    },
    {
      "cell_type": "code",
      "execution_count": null,
      "source": [
        "# Actualiza la función\r\n",
        "def generate_report(main_tank, external_tank, hydrogen_tank):\r\n",
        "    return f\"\"\"Fuel Report:\r\n",
        "    Total Average: {average([main_tank, external_tank, hydrogen_tank])}%\r\n",
        "    Main tank: {main_tank}%\r\n",
        "    External tank: {external_tank}%\r\n",
        "    Hydrogen tank: {hydrogen_tank}% \r\n",
        "    \"\"\"\r\n",
        "\r\n",
        "# Call the updated function again with different values\r\n",
        "print(generate_report(88, 76, 70))"
      ],
      "outputs": [],
      "metadata": {}
    },
    {
      "cell_type": "markdown",
      "source": [
        "### Ejercicio 2:"
      ],
      "metadata": {}
    },
    {
      "cell_type": "code",
      "execution_count": null,
      "source": [
        "# Función con un informe preciso de la misión. Considera hora de prelanzamiento, tiempo de vuelo, destino, tanque externo y tanque interno\r\n",
        "\r\n",
        "def mission_report(pre_launch_time, flight_time, destination, external_tank, main_tank):\r\n",
        "    return f\"\"\"\r\n",
        "    Mission to {destination}\r\n",
        "    Total travel time: {pre_launch_time + flight_time} minutes\r\n",
        "    Total fuel left: {external_tank + main_tank} gallons\r\n",
        "    \"\"\"\r\n",
        "\r\n",
        "print(mission_report(14, 51, \"Moon\", 200000, 300000))"
      ],
      "outputs": [],
      "metadata": {}
    },
    {
      "cell_type": "code",
      "execution_count": null,
      "source": [
        "# Escribe tu nueva función de reporte considerando lo anterior\r\n",
        "\r\n",
        "def mission_report(destination, *minutes, **fuel_reservoirs):\r\n",
        "    return f\"\"\"\r\n",
        "    Mission to {destination}\r\n",
        "    Total travel time: {sum(minutes)} minutes\r\n",
        "    Total fuel left: {sum(fuel_reservoirs.values())}\r\n",
        "    \"\"\"\r\n",
        "\r\n",
        "print(mission_report(\"Moon\", 10, 15, 51, main=300000, external=200000))"
      ],
      "outputs": [],
      "metadata": {}
    },
    {
      "cell_type": "code",
      "execution_count": 53,
      "source": [
        "# Escribe tu nueva función\r\n",
        "\r\n",
        "def mission_report(destination, *minutes, **fuel_reservoirs):\r\n",
        "    main_report = f\"\"\"\r\n",
        "    Mission to {destination}\r\n",
        "    Total travel time: {sum(minutes)} minutes\r\n",
        "    Total fuel left: {sum(fuel_reservoirs.values())}\r\n",
        "    \"\"\"\r\n",
        "    for tank_name, gallons in fuel_reservoirs.items():\r\n",
        "        main_report += f\"{tank_name} tank --> {gallons} gallons left\\n\"\r\n",
        "    return main_report\r\n",
        "\r\n",
        "print(mission_report(\"Moon\", 8, 11, 55, main=300000, external=200000))"
      ],
      "outputs": [
        {
          "output_type": "stream",
          "name": "stdout",
          "text": [
            "\n",
            "    Mission to Moon\n",
            "    Total travel time: 74 minutes\n",
            "    Total fuel left: 500000\n",
            "    main tank --> 300000 gallons left\n",
            "external tank --> 200000 gallons left\n",
            "\n"
          ]
        }
      ],
      "metadata": {}
    },
    {
      "cell_type": "markdown",
      "source": [
        "---\n",
        "\n",
        "Curso Propedútico de Python para Launch X - Innovacción Virtual.\n",
        "\n",
        "Material desarrollado con base en los contenidos de MSLearn y la metáfora de LaunchX, traducción e implementación por: Fernanda Ochoa - Learning Producer de LaunchX.\n",
        "\n",
        "Redes:\n",
        "* GitHub: [FernandaOchoa](https://github.com/FernandaOchoa)\n",
        "* Twitter: [@imonsh](https://twitter.com/imonsh)\n",
        "* Instagram: [fherz8a](https://www.instagram.com/fherz8a/)"
      ],
      "metadata": {}
    }
  ],
  "metadata": {
    "interpreter": {
      "hash": "479d081e1fce51887d37b99854eb52e86ceb36e35d6c56bda488181caa0b5ce9"
    },
    "kernelspec": {
      "name": "python3",
      "display_name": "Python 3.8.8 64-bit ('env': venv)"
    },
    "language_info": {
      "codemirror_mode": {
        "name": "ipython",
        "version": 3
      },
      "file_extension": ".py",
      "mimetype": "text/x-python",
      "name": "python",
      "nbconvert_exporter": "python",
      "pygments_lexer": "ipython3",
      "version": "3.8.8"
    },
    "nteract": {
      "version": "nteract-front-end@1.0.0"
    },
    "orig_nbformat": 4
  },
  "nbformat": 4,
  "nbformat_minor": 2
}