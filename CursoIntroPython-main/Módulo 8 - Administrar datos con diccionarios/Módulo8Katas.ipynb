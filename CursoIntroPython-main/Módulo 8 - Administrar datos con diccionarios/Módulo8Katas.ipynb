{
  "cells": [
    {
      "cell_type": "markdown",
      "source": [
        "# Ejercicio 1: Creación de diccionarios de Python"
      ],
      "metadata": {}
    },
    {
      "cell_type": "markdown",
      "source": [
        "### Ejercicio: Crear y modificar un diccionario de Python\n",
        "\n",
        "Los diccionarios python te permiten modelar datos más complejos. Los diccionarios son una colección de pares clave/valor, y son muy comunes en los programas Python. Su flexibilidad le permite trabajar dinámicamente con valores relacionados sin tener que crear clases u objetos.\n",
        "\n",
        "Un diccionario se indica en Python mediante el uso de llaves (`{ }`), con pares clave/valor separados por dos puntos (`:`). Las claves son literales de cadena y los valores pueden ser de cualquier tipo de datos.{ }:\n",
        "\n",
        "```python\n",
        "demo = {\n",
        "    'key': 'value',\n",
        "    'number': 42\n",
        "}\n",
        "```\n",
        "\n",
        "Para este ejercicio, crearás un diccionario que almacene información sobre el planeta Marte.\n",
        "\n",
        "\n",
        "> **TIP**\n",
        "> Dedica unos minutos para tratar de encontrar una solución. Luego desplázate hacia abajo hasta la parte inferior para ver si has logrado compilar el programa de acuerdo con las especificaciones\n",
        "\n",
        "Agrega el código para crear un nuevo diccionario denominado 'planet'. Rellena con la siguiente información:\n",
        "\n",
        "```\n",
        "name: Mars\n",
        "moons: 2\n",
        "```"
      ],
      "metadata": {}
    },
    {
      "cell_type": "code",
      "execution_count": 2,
      "source": [
        "# Crea un diccionario llamado planet con los datos propuestos\r\n",
        "planeta = {\r\n",
        "    'name': 'Mars',\r\n",
        "    'moons': '2'\r\n",
        "}"
      ],
      "outputs": [],
      "metadata": {}
    },
    {
      "cell_type": "markdown",
      "source": [
        "Para recuperar valores, puede utilizar el método  `get` o corchetes (`[ ]`) con el nombre de la clave que desea recuperar."
      ],
      "metadata": {}
    },
    {
      "cell_type": "code",
      "execution_count": 7,
      "source": [
        "# Muestra el nombre del planeta y el número de lunas que tiene.\r\n",
        "info = f\"\"\" El planeta {planeta['name']} tiene {planeta.get('moons')} lunas \"\"\"\r\n",
        "print(info)"
      ],
      "outputs": [
        {
          "output_type": "stream",
          "name": "stdout",
          "text": [
            " El planeta Mars tiene 2 lunas \n"
          ]
        }
      ],
      "metadata": {}
    },
    {
      "cell_type": "markdown",
      "source": [
        "Puedes actualizar las claves existentes o crear otras nuevas utilizando el método `update` o entre corchetes (`[ ]`). Cuando se usa `update`, se pasa un nuevo objeto de diccionario con los valores actualizados o nuevos. Cuando se usan corchetes, se especifica el nombre de la clave y se asigna un nuevo valor.\n",
        "\n",
        "\n",
        "```python\n",
        "demo['new_key'] = 'New value'\n",
        "```\n",
        "\n",
        "Agrega un nuevo valor con una clave de 'circunferencia (km)'. Este nuevo valor debería almacenar un diccionario con las dos circunferencias del planeta:\n",
        "\n",
        "```\n",
        "polar: 6752\n",
        "equatorial: 6792\n",
        "```\n"
      ],
      "metadata": {}
    },
    {
      "cell_type": "code",
      "execution_count": 12,
      "source": [
        "# Agrega la clave circunferencia con los datos proporcionados previamente\r\n",
        "planeta['circunferencia km'] = {\r\n",
        "    'polar': 6752,\r\n",
        "    'equatorial': 6792\r\n",
        "}\r\n"
      ],
      "outputs": [],
      "metadata": {}
    },
    {
      "cell_type": "markdown",
      "source": [
        "Imprime el nombre del planeta con su circunferencia polar."
      ],
      "metadata": {}
    },
    {
      "cell_type": "code",
      "execution_count": 14,
      "source": [
        "# Imprime el nombre del planeta con su circunferencia polar.\r\n",
        "info1 = f\"\"\"El planeta {planeta['name']} tiene {planeta['circunferencia km']['polar']} km de circunferencia polar\"\"\"\r\n",
        "print(info1)"
      ],
      "outputs": [
        {
          "output_type": "stream",
          "name": "stdout",
          "text": [
            "El planeta Mars tiene 6752 km de circunferencia polar\n"
          ]
        }
      ],
      "metadata": {}
    },
    {
      "cell_type": "markdown",
      "source": [
        "> Recuerda: Lo importante es intentarlo, puedes auxiliarte de internet, libros, etc. El objetivo de una kata es la comprobación de la comprensión de la lección y su aplicación inmediata a la resolución de problemas. Go for it!"
      ],
      "metadata": {}
    },
    {
      "cell_type": "markdown",
      "source": [
        "## Ejercicio 2: Programación dinámica con diccionarios"
      ],
      "metadata": {}
    },
    {
      "cell_type": "markdown",
      "source": [
        "### Ejercicio: Cálculo de valores\n",
        "En este escenario, calcularás tanto el número total de lunas en el sistema solar como el número promedio de lunas que tiene un planeta."
      ],
      "metadata": {}
    },
    {
      "cell_type": "code",
      "execution_count": 16,
      "source": [
        "# Planets and moons\r\n",
        "\r\n",
        "planet_moons = {\r\n",
        "    'mercury': 0,\r\n",
        "    'venus': 0,\r\n",
        "    'earth': 1,\r\n",
        "    'mars': 2,\r\n",
        "    'jupiter': 79,\r\n",
        "    'saturn': 82,\r\n",
        "    'uranus': 27,\r\n",
        "    'neptune': 14,\r\n",
        "    'pluto': 5,\r\n",
        "    'haumea': 2,\r\n",
        "    'makemake': 1,\r\n",
        "    'eris': 1\r\n",
        "}"
      ],
      "outputs": [],
      "metadata": {}
    },
    {
      "cell_type": "markdown",
      "source": [
        "Los diccionarios de Python te permiten recuperar todos los valores y claves utilizando los métodos `values` y `keys`, respectivamente. Cada método devuelve una lista que contiene los datos, que luego se puede usar como una lista normal de Python. Puedes determinar el número de elementos mediante `len`, e iterar a través de él mediante un ciclo `for`.\n",
        "\n",
        "Agrega el código a continuación para determinar el número de lunas. Comienza almacenando el valor `values` de `planet_moons` en una variable denominada `moons`. A continuación, almacena el número de planetas en una variable denominada `planets`.\n"
      ],
      "metadata": {}
    },
    {
      "cell_type": "code",
      "execution_count": 30,
      "source": [
        "# Añade el código para determinar el número de lunas.\r\n",
        "valores = planet_moons.values()\r\n",
        "claves = planet_moons.keys()"
      ],
      "outputs": [],
      "metadata": {}
    },
    {
      "cell_type": "markdown",
      "source": [
        "Agrega el código para contar el número de lunas. Puedes hacerlo creando un ciclo `for` para iterar a través de las lunas `moons` y agregándolos a una variable denominada `total_moons`. Finalmente calcule el promedio dividiendo `total_moons` por `planets` e imprimiendo los resultados."
      ],
      "metadata": {}
    },
    {
      "cell_type": "code",
      "execution_count": 42,
      "source": [
        "# Agrega el código para contar el número de lunas. \r\n",
        "numero_lunas = 0\r\n",
        "for valor in valores:\r\n",
        "    numero_lunas +=  valor\r\n",
        "\r\n",
        "promedio = numero_lunas/len(claves)\r\n",
        "print('El total de lunas son:',numero_lunas)\r\n",
        "print('El promedio de lunas por planetas es:',promedio)\r\n"
      ],
      "outputs": [
        {
          "output_type": "stream",
          "name": "stdout",
          "text": [
            "El total de lunas son: 214\n",
            "El promedio de lunas por planetas es: 17.833333333333332\n"
          ]
        }
      ],
      "metadata": {}
    },
    {
      "cell_type": "markdown",
      "source": [
        "## Soluciones"
      ],
      "metadata": {}
    },
    {
      "cell_type": "markdown",
      "source": [
        "### Ejercicio 1:"
      ],
      "metadata": {}
    },
    {
      "cell_type": "code",
      "execution_count": 46,
      "source": [
        "# Crea un diccionario llamado planet con los datos propuestos\r\n",
        "\r\n",
        "planet = {\r\n",
        "    'name': 'Mars',\r\n",
        "    'moons': 2\r\n",
        "}"
      ],
      "outputs": [],
      "metadata": {}
    },
    {
      "cell_type": "code",
      "execution_count": 47,
      "source": [
        "# Muestra el nombre del planeta y el número de lunas que tiene.\r\n",
        "\r\n",
        "print(f'{planet[\"name\"]} has {planet[\"moons\"]} moons')"
      ],
      "outputs": [
        {
          "output_type": "stream",
          "name": "stdout",
          "text": [
            "Mars has 2 moons\n"
          ]
        }
      ],
      "metadata": {}
    },
    {
      "cell_type": "code",
      "execution_count": 49,
      "source": [
        "# Agrega la clave circunferencia con los datos proporcionados previamente\r\n",
        "\r\n",
        "planet['circumference (km)'] = {\r\n",
        "    'polar': 6752,\r\n",
        "    'equatorial': 6792\r\n",
        "}"
      ],
      "outputs": [],
      "metadata": {}
    },
    {
      "cell_type": "code",
      "execution_count": 50,
      "source": [
        "# Imprime el nombre del planeta con su circunferencia polar.\r\n",
        "\r\n",
        "print(f'{planet[\"name\"]} has a polar circumference of {planet[\"circumference (km)\"][\"polar\"]}')"
      ],
      "outputs": [
        {
          "output_type": "stream",
          "name": "stdout",
          "text": [
            "Mars has a polar circumference of 6752\n"
          ]
        }
      ],
      "metadata": {}
    },
    {
      "cell_type": "markdown",
      "source": [
        "### Ejercicio 2"
      ],
      "metadata": {}
    },
    {
      "cell_type": "code",
      "execution_count": 51,
      "source": [
        "# Añade el código para determinar el número de lunas.\r\n",
        "\r\n",
        "# Obtenemos la lista de las lunas\r\n",
        "# Almacenamos los resultados en una variable moons\r\n",
        "moons = planet_moons.values()\r\n",
        "\r\n",
        "# Obtenemos el total de planetas\r\n",
        "# Almacenamos los resultados en una variable llamada years\r\n",
        "planets = len(planet_moons.keys())"
      ],
      "outputs": [],
      "metadata": {}
    },
    {
      "cell_type": "code",
      "execution_count": 53,
      "source": [
        "# Calcula el total_moons agregando todas las lunas\r\n",
        "# Almacena su valor en una variable llamada total_moons\r\n",
        "\r\n",
        "total_moons = 0\r\n",
        "for moon in moons:\r\n",
        "    total_moons = total_moons + moon\r\n",
        "\r\n",
        "# Calcula el promedio dividiendo el total_moons por el número de planetas\r\n",
        "average = total_moons / planets\r\n",
        "\r\n",
        "# Muestra el promedio\r\n",
        "print(average)"
      ],
      "outputs": [
        {
          "output_type": "stream",
          "name": "stdout",
          "text": [
            "17.833333333333332\n"
          ]
        }
      ],
      "metadata": {}
    },
    {
      "cell_type": "markdown",
      "source": [
        "---\n",
        "\n",
        "Curso Propedútico de Python para Launch X - Innovacción Virtual.\n",
        "\n",
        "Material desarrollado con base en los contenidos de MSLearn y la metáfora de LaunchX, traducción e implementación por: Fernanda Ochoa - Learning Producer de LaunchX.\n",
        "\n",
        "Redes:\n",
        "* GitHub: [FernandaOchoa](https://github.com/FernandaOchoa)\n",
        "* Twitter: [@imonsh](https://twitter.com/imonsh)\n",
        "* Instagram: [fherz8a](https://www.instagram.com/fherz8a/)"
      ],
      "metadata": {}
    }
  ],
  "metadata": {
    "interpreter": {
      "hash": "479d081e1fce51887d37b99854eb52e86ceb36e35d6c56bda488181caa0b5ce9"
    },
    "kernelspec": {
      "name": "python3",
      "display_name": "Python 3.8.8 64-bit ('env': venv)"
    },
    "language_info": {
      "codemirror_mode": {
        "name": "ipython",
        "version": 3
      },
      "file_extension": ".py",
      "mimetype": "text/x-python",
      "name": "python",
      "nbconvert_exporter": "python",
      "pygments_lexer": "ipython3",
      "version": "3.8.8"
    },
    "nteract": {
      "version": "nteract-front-end@1.0.0"
    },
    "orig_nbformat": 4
  },
  "nbformat": 4,
  "nbformat_minor": 2
}